{
 "cells": [
  {
   "cell_type": "markdown",
   "id": "4ccb9744",
   "metadata": {},
   "source": [
    "### EEC227C HW1 Q1, Yigit Efe Erginbas"
   ]
  },
  {
   "cell_type": "code",
   "execution_count": 38,
   "id": "e5d0b327",
   "metadata": {},
   "outputs": [],
   "source": [
    "import numpy as np\n",
    "import matplotlib.pyplot as plt"
   ]
  },
  {
   "cell_type": "code",
   "execution_count": 39,
   "id": "7192e625",
   "metadata": {},
   "outputs": [],
   "source": [
    "A = np.zeros((5,10,10))\n",
    "b = np.zeros((5,10))"
   ]
  },
  {
   "cell_type": "code",
   "execution_count": 40,
   "id": "10487851",
   "metadata": {},
   "outputs": [],
   "source": [
    "for k in range(5):\n",
    "    for i in range(10):\n",
    "        for j in range(10):\n",
    "            if i < j:\n",
    "                A[k,i,j] = np.exp((i+1) / (j+1)) * np.cos((i+1) * (j+1)) * np.sin(k+1)\n",
    "            if i > j:\n",
    "                A[k,i,j] = np.exp((j+1) / (i+1)) * np.cos((j+1) * (i+1)) * np.sin(k+1)\n",
    "\n",
    "for k in range(5):\n",
    "    for i in range(10):\n",
    "        A[k,i,i] = (i+1)/10 * np.abs(np.sin(k+1)) + np.sum(np.abs(A[k, i, :]))\n",
    "        \n",
    "for k in range(5):\n",
    "    for i in range(10):        \n",
    "        b[k, i] = np.exp((i+1) / (k+1)) * np.sin((i+1) * (k+1))"
   ]
  },
  {
   "cell_type": "code",
   "execution_count": 41,
   "id": "ee82e22e",
   "metadata": {},
   "outputs": [],
   "source": [
    "def f_eval(x):\n",
    "    \n",
    "    f_k = np.zeros(5)\n",
    "    \n",
    "    for k in range(5):\n",
    "        f_k[k] = x.T @ A[k] @ x - x.T @ b[k]\n",
    "    \n",
    "    return np.max(f_k), np.argmax(f_k)\n",
    "\n",
    "def f_grad(x):\n",
    "    _, k_star = f_eval(x)\n",
    "    return 2 * A[k_star] @ x - b[k_star]"
   ]
  },
  {
   "cell_type": "markdown",
   "id": "f75fb7e1",
   "metadata": {},
   "source": [
    "Evaluate $f(x^{1})$:"
   ]
  },
  {
   "cell_type": "code",
   "execution_count": 42,
   "id": "a013e787",
   "metadata": {},
   "outputs": [
    {
     "data": {
      "text/plain": [
       "(5337.066429311364, 0)"
      ]
     },
     "execution_count": 42,
     "metadata": {},
     "output_type": "execute_result"
    }
   ],
   "source": [
    "f_eval(np.ones(10))"
   ]
  },
  {
   "cell_type": "markdown",
   "id": "367dc75a",
   "metadata": {},
   "source": [
    "Check if all $A_k$ are PSD:"
   ]
  },
  {
   "cell_type": "code",
   "execution_count": 43,
   "id": "c3697528",
   "metadata": {
    "scrolled": true
   },
   "outputs": [
    {
     "name": "stdout",
     "output_type": "stream",
     "text": [
      "True\n",
      "True\n",
      "True\n",
      "True\n",
      "True\n"
     ]
    }
   ],
   "source": [
    "for k in range(5):\n",
    "    print(np.min(np.linalg.eig(A[k])[0]) > 0)"
   ]
  },
  {
   "cell_type": "markdown",
   "id": "be5362e6",
   "metadata": {},
   "source": [
    "## Solve with CVXOPT to obtain the optimal point & value"
   ]
  },
  {
   "cell_type": "code",
   "execution_count": 50,
   "id": "d1ff4047",
   "metadata": {},
   "outputs": [
    {
     "name": "stdout",
     "output_type": "stream",
     "text": [
      "-0.8414083342169736\n"
     ]
    }
   ],
   "source": [
    "import cvxpy as cp\n",
    "\n",
    "x = cp.Variable(10)\n",
    "\n",
    "Fi = []\n",
    "for k in range(5):\n",
    "    Fi.append(cp.quad_form(x, A[k]) - x.T @ b[k])\n",
    "\n",
    "objective = cp.Minimize(cp.maximum(*Fi))\n",
    "prob = cp.Problem(objective)\n",
    "result = prob.solve()\n",
    "\n",
    "x_opt = np.array(x.value)\n",
    "optimal_value, _ = f_eval(x_opt)\n",
    "\n",
    "print('Optimal Value = ', optimal_value)"
   ]
  },
  {
   "cell_type": "markdown",
   "id": "2b8e725d",
   "metadata": {},
   "source": [
    "## Subgradient Descent Algorithm"
   ]
  },
  {
   "cell_type": "code",
   "execution_count": 55,
   "id": "29c635a0",
   "metadata": {},
   "outputs": [],
   "source": [
    "x = np.ones(10)\n",
    "T = int(1e6)\n",
    "C = 1e-3\n",
    "hist = np.zeros(T)\n",
    "best_value = np.inf\n",
    "\n",
    "for t in range(T):\n",
    "    eta = C/np.sqrt(t+1)\n",
    "    current_value, _ = f_eval(x)\n",
    "    if current_value < best_value:\n",
    "        best_value = current_value\n",
    "    hist[t] = best_value\n",
    "    x = x - eta * f_grad(x)"
   ]
  },
  {
   "cell_type": "code",
   "execution_count": 56,
   "id": "56e00908",
   "metadata": {},
   "outputs": [
    {
     "name": "stdout",
     "output_type": "stream",
     "text": [
      "Optimal Value =  -0.8414083342169736\n"
     ]
    }
   ],
   "source": [
    "print('Best Value = ', best_value)"
   ]
  },
  {
   "cell_type": "markdown",
   "id": "6156b897",
   "metadata": {},
   "source": [
    "## Subgradient Descent Algorithm with Polyak Stepsize"
   ]
  },
  {
   "cell_type": "code",
   "execution_count": 57,
   "id": "db9e4cbb",
   "metadata": {},
   "outputs": [],
   "source": [
    "x = np.ones(10)\n",
    "T = int(1e6)\n",
    "hist_2 = np.zeros(T)\n",
    "best_value = np.inf\n",
    "\n",
    "for t in range(T):\n",
    "    current_value, _ = f_eval(x)\n",
    "    if current_value < best_value:\n",
    "        best_value = current_value\n",
    "    hist_2[t] = best_value\n",
    "    \n",
    "    eta = (current_value - optimal_value) / np.linalg.norm(f_grad(x))**2\n",
    "    x = x - eta * f_grad(x)"
   ]
  },
  {
   "cell_type": "code",
   "execution_count": 59,
   "id": "0154144e",
   "metadata": {
    "scrolled": true
   },
   "outputs": [
    {
     "name": "stdout",
     "output_type": "stream",
     "text": [
      "Best Value =  -0.8414015595565663\n"
     ]
    }
   ],
   "source": [
    "print('Best Value = ', best_value)"
   ]
  },
  {
   "cell_type": "markdown",
   "id": "f12607f7",
   "metadata": {},
   "source": [
    "## Results"
   ]
  },
  {
   "cell_type": "code",
   "execution_count": 67,
   "id": "39d53d06",
   "metadata": {},
   "outputs": [
    {
     "data": {
      "image/png": "[encoded data removed]",
      "text/plain": [
       "<Figure size 432x288 with 1 Axes>"
      ]
     },
     "metadata": {
      "needs_background": "light"
     },
     "output_type": "display_data"
    }
   ],
   "source": [
    "plt.plot(hist - optimal_value, label=\"C/sqrt(t) step size\")\n",
    "plt.xscale('log')\n",
    "plt.yscale('log')\n",
    "\n",
    "plt.plot(hist_2 - optimal_value, label=\"Polyak step size\")\n",
    "plt.xscale('log')\n",
    "plt.yscale('log')\n",
    "\n",
    "plt.ylabel('Minimum Gap so Far')\n",
    "plt.xlabel('Iteration')\n",
    "plt.legend()\n",
    "plt.show()"
   ]
  },
  {
   "cell_type": "code",
   "execution_count": null,
   "id": "41297640",
   "metadata": {},
   "outputs": [],
   "source": []
  }
 ],
 "metadata": {
  "kernelspec": {
   "display_name": "Python 3",
   "language": "python",
   "name": "python3"
  },
  "language_info": {
   "codemirror_mode": {
    "name": "ipython",
    "version": 3
   },
   "file_extension": ".py",
   "mimetype": "text/x-python",
   "name": "python",
   "nbconvert_exporter": "python",
   "pygments_lexer": "ipython3",
   "version": "3.8.8"
  }
 },
 "nbformat": 4,
 "nbformat_minor": 5
}
