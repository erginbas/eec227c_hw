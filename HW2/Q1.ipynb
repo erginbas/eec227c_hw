{
 "cells": [
  {
   "cell_type": "markdown",
   "id": "4ccb9744",
   "metadata": {},
   "source": [
    "### EEC227C HW2 Q1, Yigit Efe Erginbas"
   ]
  },
  {
   "cell_type": "code",
   "execution_count": 2,
   "id": "e5d0b327",
   "metadata": {},
   "outputs": [],
   "source": [
    "import numpy as np\n",
    "import matplotlib.pyplot as plt\n",
    "import cvxpy as cp"
   ]
  },
  {
   "cell_type": "code",
   "execution_count": 3,
   "id": "7192e625",
   "metadata": {},
   "outputs": [],
   "source": [
    "A = np.zeros((5,10,10))\n",
    "b = np.zeros((5,10))"
   ]
  },
  {
   "cell_type": "code",
   "execution_count": 4,
   "id": "10487851",
   "metadata": {},
   "outputs": [],
   "source": [
    "for k in range(5):\n",
    "    for i in range(10):\n",
    "        for j in range(10):\n",
    "            if i < j:\n",
    "                A[k,i,j] = np.exp((i+1) / (j+1)) * np.cos((i+1) * (j+1)) * np.sin(k+1)\n",
    "            if i > j:\n",
    "                A[k,i,j] = np.exp((j+1) / (i+1)) * np.cos((j+1) * (i+1)) * np.sin(k+1)\n",
    "\n",
    "for k in range(5):\n",
    "    for i in range(10):\n",
    "        A[k,i,i] = (i+1)/10 * np.abs(np.sin(k+1)) + np.sum(np.abs(A[k, i, :]))\n",
    "        \n",
    "for k in range(5):\n",
    "    for i in range(10):        \n",
    "        b[k, i] = np.exp((i+1) / (k+1)) * np.sin((i+1) * (k+1))"
   ]
  },
  {
   "cell_type": "code",
   "execution_count": 5,
   "id": "ee82e22e",
   "metadata": {},
   "outputs": [],
   "source": [
    "def f_eval(x):\n",
    "    \n",
    "    f_k = np.zeros(5)\n",
    "    \n",
    "    for k in range(5):\n",
    "        f_k[k] = x.T @ A[k] @ x - x.T @ b[k]\n",
    "    \n",
    "    return np.max(f_k), np.argmax(f_k)\n",
    "\n",
    "def f_grad(x):\n",
    "    _, k_star = f_eval(x)\n",
    "    return 2 * A[k_star] @ x - b[k_star]"
   ]
  },
  {
   "cell_type": "markdown",
   "id": "f75fb7e1",
   "metadata": {},
   "source": [
    "Evaluate $f(x^{1})$:"
   ]
  },
  {
   "cell_type": "code",
   "execution_count": 6,
   "id": "a013e787",
   "metadata": {},
   "outputs": [
    {
     "data": {
      "text/plain": [
       "(5337.066429311364, 0)"
      ]
     },
     "execution_count": 6,
     "metadata": {},
     "output_type": "execute_result"
    }
   ],
   "source": [
    "f_eval(np.ones(10))"
   ]
  },
  {
   "cell_type": "markdown",
   "id": "367dc75a",
   "metadata": {},
   "source": [
    "Check if all $A_k$ are PSD:"
   ]
  },
  {
   "cell_type": "code",
   "execution_count": 7,
   "id": "c3697528",
   "metadata": {
    "scrolled": true
   },
   "outputs": [
    {
     "name": "stdout",
     "output_type": "stream",
     "text": [
      "True\n",
      "True\n",
      "True\n",
      "True\n",
      "True\n"
     ]
    }
   ],
   "source": [
    "for k in range(5):\n",
    "    print(np.min(np.linalg.eig(A[k])[0]) > 0)"
   ]
  },
  {
   "cell_type": "markdown",
   "id": "be5362e6",
   "metadata": {},
   "source": [
    "## Solve with CVXOPT to obtain the optimal point & value"
   ]
  },
  {
   "cell_type": "code",
   "execution_count": 82,
   "id": "d1ff4047",
   "metadata": {},
   "outputs": [
    {
     "name": "stdout",
     "output_type": "stream",
     "text": [
      "Optimal Value =  -0.8414083342169737\n",
      "[-0.12625655 -0.03437833 -0.00685703  0.02636084  0.06729451 -0.27839957\n",
      "  0.07421914  0.13852438  0.08403105  0.03858013]\n"
     ]
    }
   ],
   "source": [
    "import cvxpy as cp\n",
    "\n",
    "x = cp.Variable(10)\n",
    "\n",
    "Fi = []\n",
    "for k in range(5):\n",
    "    Fi.append(cp.quad_form(x, A[k]) - x.T @ b[k])\n",
    "\n",
    "objective = cp.Minimize(cp.maximum(*Fi))\n",
    "prob = cp.Problem(objective)\n",
    "optimal_value = prob.solve()\n",
    "\n",
    "x_opt = np.array(x.value)\n",
    "\n",
    "print('Optimal Value = ', optimal_value)\n",
    "print(x_opt)"
   ]
  },
  {
   "cell_type": "markdown",
   "id": "2b8e725d",
   "metadata": {},
   "source": [
    "## Level Method"
   ]
  },
  {
   "cell_type": "code",
   "execution_count": 55,
   "id": "573a200a",
   "metadata": {},
   "outputs": [],
   "source": [
    "def minimize_bundle(bundle):\n",
    "    x_values, f_values, grads = bundle\n",
    "    x = cp.Variable(10)\n",
    "    obj_val = cp.max(f_values + cp.sum(cp.multiply(grads, (cp.reshape(x, (10, 1)) - x_values)), axis=0))\n",
    "    objective = cp.Minimize(obj_val)\n",
    "    # include the following constraint in order to avoid unbounded objective values\n",
    "    constraints = [cp.norm2(x) <= 100]\n",
    "    prob = cp.Problem(objective, constraints)\n",
    "    result = prob.solve()\n",
    "    return x.value, result"
   ]
  },
  {
   "cell_type": "code",
   "execution_count": 56,
   "id": "5d594266",
   "metadata": {},
   "outputs": [],
   "source": [
    "def projection(x_prev, level, bundle):\n",
    "    x_values, f_values, grads = bundle\n",
    "    x = cp.Variable(10)\n",
    "    constraints = [f_values + cp.sum(cp.multiply(grads, (cp.reshape(x, (10, 1)) - x_values)), axis=0) <= level]\n",
    "    objective = cp.Minimize(cp.norm2(x - x_prev))\n",
    "    prob = cp.Problem(objective, constraints)\n",
    "    result = prob.solve()\n",
    "    return x.value"
   ]
  },
  {
   "cell_type": "code",
   "execution_count": 96,
   "id": "29c635a0",
   "metadata": {},
   "outputs": [],
   "source": [
    "lmbd = 0.5\n",
    "x = np.ones(10)\n",
    "T = 500\n",
    "C = 1e-3\n",
    "hist = np.zeros(T)\n",
    "best_value = np.inf\n",
    "\n",
    "grads = []\n",
    "f_values = []\n",
    "x_values = []\n",
    "\n",
    "for t in range(T):\n",
    "        \n",
    "    current_value, _ = f_eval(x)\n",
    "    \n",
    "    if current_value < best_value:\n",
    "        best_value = current_value\n",
    "    hist[t] = best_value\n",
    "    \n",
    "    x_values.append(x)\n",
    "    f_values.append(current_value)\n",
    "    grads.append(f_grad(x))\n",
    "    \n",
    "    bundle = x_values, f_values, grads \n",
    "\n",
    "    _, f_minus = minimize_bundle(bundle)\n",
    "    f_plus = np.min(f_values)\n",
    "\n",
    "    level = (1 - lmbd) * f_minus + lmbd * f_plus\n",
    "\n",
    "    x = projection(x, level, bundle)"
   ]
  },
  {
   "cell_type": "code",
   "execution_count": 97,
   "id": "56e00908",
   "metadata": {},
   "outputs": [
    {
     "name": "stdout",
     "output_type": "stream",
     "text": [
      "Best Value =  -0.8414083344552934\n"
     ]
    }
   ],
   "source": [
    "print('Best Value = ', best_value)"
   ]
  },
  {
   "cell_type": "markdown",
   "id": "f12607f7",
   "metadata": {},
   "source": [
    "## Results"
   ]
  },
  {
   "cell_type": "code",
   "execution_count": 98,
   "id": "39d53d06",
   "metadata": {},
   "outputs": [
    {
     "data": {
      "image/png": "[encoded data removed]",
      "text/plain": [
       "<Figure size 432x288 with 1 Axes>"
      ]
     },
     "metadata": {
      "needs_background": "light"
     },
     "output_type": "display_data"
    }
   ],
   "source": [
    "plt.plot(hist - optimal_value, label=\"Level Method\")\n",
    "plt.xscale('log')\n",
    "plt.yscale('log')\n",
    "\n",
    "plt.ylabel('Optimality Gap')\n",
    "plt.xlabel('Iteration')\n",
    "plt.legend()\n",
    "plt.show()"
   ]
  },
  {
   "cell_type": "code",
   "execution_count": null,
   "id": "18a6aa14",
   "metadata": {},
   "outputs": [],
   "source": []
  }
 ],
 "metadata": {
  "kernelspec": {
   "display_name": "Python 3",
   "language": "python",
   "name": "python3"
  },
  "language_info": {
   "codemirror_mode": {
    "name": "ipython",
    "version": 3
   },
   "file_extension": ".py",
   "mimetype": "text/x-python",
   "name": "python",
   "nbconvert_exporter": "python",
   "pygments_lexer": "ipython3",
   "version": "3.8.8"
  }
 },
 "nbformat": 4,
 "nbformat_minor": 5
}
