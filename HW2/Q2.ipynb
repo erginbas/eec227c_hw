{
 "cells": [
  {
   "cell_type": "markdown",
   "id": "381be182",
   "metadata": {},
   "source": [
    "### EEC227C HW2 Q2, Yigit Efe Erginbas"
   ]
  },
  {
   "cell_type": "code",
   "execution_count": 8,
   "id": "72641f33",
   "metadata": {},
   "outputs": [],
   "source": [
    "import numpy as np\n",
    "import matplotlib.pyplot as plt"
   ]
  },
  {
   "cell_type": "markdown",
   "id": "d7c6328d",
   "metadata": {},
   "source": [
    "## First Experiment"
   ]
  },
  {
   "cell_type": "code",
   "execution_count": 2,
   "id": "25377f87",
   "metadata": {},
   "outputs": [],
   "source": [
    "A = np.random.randn(20, 20)"
   ]
  },
  {
   "cell_type": "code",
   "execution_count": 3,
   "id": "9088dcda",
   "metadata": {},
   "outputs": [],
   "source": [
    "def f_eval(x):\n",
    "    return np.linalg.norm(A @ x) ** 2"
   ]
  },
  {
   "cell_type": "code",
   "execution_count": 4,
   "id": "7351b648",
   "metadata": {},
   "outputs": [],
   "source": [
    "def f_grad(x):\n",
    "    return 2 * A.T @ (A @ x)"
   ]
  },
  {
   "cell_type": "markdown",
   "id": "5f360e75",
   "metadata": {},
   "source": [
    "### Gradient Descent"
   ]
  },
  {
   "cell_type": "code",
   "execution_count": 23,
   "id": "f2e61f1f",
   "metadata": {},
   "outputs": [],
   "source": [
    "x = np.ones(20)\n",
    "T = int(1e5)\n",
    "eta = 1e-2\n",
    "hist1 = np.zeros(T)\n",
    "best_value = np.inf\n",
    "\n",
    "for t in range(T):\n",
    "    \n",
    "    current_value = f_eval(x) \n",
    "    if current_value < best_value:\n",
    "        best_value = current_value\n",
    "    hist1[t] = best_value\n",
    "    \n",
    "    x = x - eta * f_grad(x)"
   ]
  },
  {
   "cell_type": "markdown",
   "id": "565c3f97",
   "metadata": {},
   "source": [
    "### Accelerated GD"
   ]
  },
  {
   "cell_type": "code",
   "execution_count": 48,
   "id": "4e1eb887",
   "metadata": {},
   "outputs": [],
   "source": [
    "x = np.ones(20)\n",
    "z = x\n",
    "T = int(1e5)\n",
    "hist2 = np.zeros(T)\n",
    "best_value = np.inf\n",
    "lmbd = 1\n",
    "\n",
    "for t in range(T):\n",
    "    \n",
    "    current_value = f_eval(x) \n",
    "    if current_value < best_value:\n",
    "        best_value = current_value\n",
    "    hist2[t] = best_value\n",
    "        \n",
    "    if t < 3:\n",
    "        gamma = 0\n",
    "    else:\n",
    "        gamma = 2/(t+1)\n",
    "        \n",
    "    lmbd = lmbd * (1 - gamma)\n",
    "    \n",
    "    y = (1 - gamma) * x + gamma * z\n",
    "    \n",
    "    grad = 1e-2 * f_grad(y)\n",
    "        \n",
    "    z = z - gamma/lmbd * grad\n",
    "    x = y - grad"
   ]
  },
  {
   "cell_type": "code",
   "execution_count": 49,
   "id": "ca388a31",
   "metadata": {},
   "outputs": [
    {
     "data": {
      "image/png": "[encoded data removed]",
      "text/plain": [
       "<Figure size 432x288 with 1 Axes>"
      ]
     },
     "metadata": {
      "needs_background": "light"
     },
     "output_type": "display_data"
    }
   ],
   "source": [
    "plt.plot(hist1, label=\"Gradient Descent\")\n",
    "plt.xscale('log')\n",
    "plt.yscale('log')\n",
    "\n",
    "plt.plot(hist2, label=\"Accelerated Gradient Descent\")\n",
    "plt.xscale('log')\n",
    "plt.yscale('log')\n",
    "\n",
    "plt.ylabel('Optimality Gap')\n",
    "plt.xlabel('Iteration')\n",
    "plt.legend()\n",
    "plt.show()"
   ]
  },
  {
   "cell_type": "markdown",
   "id": "4b74de1e",
   "metadata": {},
   "source": [
    "## Second Experiment"
   ]
  },
  {
   "cell_type": "code",
   "execution_count": 51,
   "id": "5324d9f9",
   "metadata": {},
   "outputs": [],
   "source": [
    "A = np.zeros((20, 20))\n",
    "for i in range(20):\n",
    "    for j in range(20):\n",
    "        if i == j - 1 or i == j + 1:\n",
    "            A[i, j] = -1\n",
    "        elif i == j:\n",
    "            A[i, j] = 2"
   ]
  },
  {
   "cell_type": "code",
   "execution_count": 52,
   "id": "d032ff7c",
   "metadata": {},
   "outputs": [],
   "source": [
    "def f_eval(x):\n",
    "    return np.linalg.norm(A @ x) ** 2"
   ]
  },
  {
   "cell_type": "code",
   "execution_count": 53,
   "id": "2c678b22",
   "metadata": {},
   "outputs": [],
   "source": [
    "def f_grad(x):\n",
    "    return 2 * A.T @ (A @ x)"
   ]
  },
  {
   "cell_type": "markdown",
   "id": "a8115c13",
   "metadata": {},
   "source": [
    "### Gradient Descent"
   ]
  },
  {
   "cell_type": "code",
   "execution_count": 54,
   "id": "6ad803a8",
   "metadata": {},
   "outputs": [],
   "source": [
    "x = np.ones(20)\n",
    "T = int(1e5)\n",
    "eta = 1e-2\n",
    "hist1 = np.zeros(T)\n",
    "best_value = np.inf\n",
    "\n",
    "for t in range(T):\n",
    "    \n",
    "    current_value = f_eval(x) \n",
    "    if current_value < best_value:\n",
    "        best_value = current_value\n",
    "    hist1[t] = best_value\n",
    "    \n",
    "    x = x - eta * f_grad(x)"
   ]
  },
  {
   "cell_type": "markdown",
   "id": "b574fdce",
   "metadata": {},
   "source": [
    "### Accelerated GD"
   ]
  },
  {
   "cell_type": "code",
   "execution_count": 55,
   "id": "4f6492d5",
   "metadata": {},
   "outputs": [],
   "source": [
    "x = np.ones(20)\n",
    "z = x\n",
    "T = int(1e5)\n",
    "hist2 = np.zeros(T)\n",
    "best_value = np.inf\n",
    "lmbd = 1\n",
    "\n",
    "for t in range(T):\n",
    "    \n",
    "    current_value = f_eval(x) \n",
    "    if current_value < best_value:\n",
    "        best_value = current_value\n",
    "    hist2[t] = best_value\n",
    "        \n",
    "    if t < 3:\n",
    "        gamma = 0\n",
    "    else:\n",
    "        gamma = 2/(t+1)\n",
    "        \n",
    "    lmbd = lmbd * (1 - gamma)\n",
    "    \n",
    "    y = (1 - gamma) * x + gamma * z\n",
    "    \n",
    "    grad = 1e-2 * f_grad(y)\n",
    "        \n",
    "    z = z - gamma/lmbd * grad\n",
    "    x = y - grad"
   ]
  },
  {
   "cell_type": "code",
   "execution_count": 56,
   "id": "6c0a4a81",
   "metadata": {},
   "outputs": [
    {
     "data": {
      "image/png": "[encoded data removed]",
      "text/plain": [
       "<Figure size 432x288 with 1 Axes>"
      ]
     },
     "metadata": {
      "needs_background": "light"
     },
     "output_type": "display_data"
    }
   ],
   "source": [
    "plt.plot(hist1, label=\"Gradient Descent\")\n",
    "plt.xscale('log')\n",
    "plt.yscale('log')\n",
    "\n",
    "plt.plot(hist2, label=\"Accelerated Gradient Descent\")\n",
    "plt.xscale('log')\n",
    "plt.yscale('log')\n",
    "\n",
    "plt.ylabel('Optimality Gap')\n",
    "plt.xlabel('Iteration')\n",
    "plt.legend()\n",
    "plt.show()"
   ]
  },
  {
   "cell_type": "code",
   "execution_count": null,
   "id": "0c637175",
   "metadata": {},
   "outputs": [],
   "source": []
  }
 ],
 "metadata": {
  "kernelspec": {
   "display_name": "Python 3",
   "language": "python",
   "name": "python3"
  },
  "language_info": {
   "codemirror_mode": {
    "name": "ipython",
    "version": 3
   },
   "file_extension": ".py",
   "mimetype": "text/x-python",
   "name": "python",
   "nbconvert_exporter": "python",
   "pygments_lexer": "ipython3",
   "version": "3.8.8"
  }
 },
 "nbformat": 4,
 "nbformat_minor": 5
}
