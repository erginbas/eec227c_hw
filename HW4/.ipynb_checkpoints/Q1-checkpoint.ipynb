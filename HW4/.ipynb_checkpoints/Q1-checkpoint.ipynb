{
 "cells": [
  {
   "cell_type": "code",
   "execution_count": 1,
   "id": "aa0a7e77",
   "metadata": {},
   "outputs": [],
   "source": [
    "import numpy as np"
   ]
  },
  {
   "cell_type": "code",
   "execution_count": 60,
   "id": "0f4eb951",
   "metadata": {},
   "outputs": [],
   "source": [
    "m = 20\n",
    "\n",
    "c = np.ones(m)\n",
    "\n",
    "A = np.concatenate([np.eye(m), -np.eye(m)])\n",
    "b = np.ones(2* m)"
   ]
  },
  {
   "cell_type": "code",
   "execution_count": 71,
   "id": "b8df822b",
   "metadata": {},
   "outputs": [],
   "source": [
    "def log_barrier(x):\n",
    "    F = - np.sum(np.log(b - A @ x))\n",
    "    F_grad = np.sum(A.T / (b - A @ x), axis = 1)\n",
    "    \n",
    "    F_hessian = np.zeros((m, m))\n",
    "    for i in range(2 * m):\n",
    "        F_hessian += np.outer(A[i, :], A[i, :]).T / (b[i] - np.inner(A[i, :], x))**2\n",
    "        \n",
    "    return F, F_grad, F_hessian\n",
    "\n",
    "def newton_step(x, eta):\n",
    "    F, F_grad, F_hessian = log_barrier(x)\n",
    "    grad = eta * c + F_grad\n",
    "    hess = F_hessian\n",
    "    return - np.linalg.inv(hess) @ grad"
   ]
  },
  {
   "cell_type": "code",
   "execution_count": 76,
   "id": "8044aaf2",
   "metadata": {},
   "outputs": [
    {
     "name": "stdout",
     "output_type": "stream",
     "text": [
      "[-0.9999995 -0.9999995 -0.9999995 -0.9999995 -0.9999995 -0.9999995\n",
      " -0.9999995 -0.9999995 -0.9999995 -0.9999995 -0.9999995 -0.9999995\n",
      " -0.9999995 -0.9999995 -0.9999995 -0.9999995 -0.9999995 -0.9999995\n",
      " -0.9999995 -0.9999995]\n",
      "9.925694154588882e-06\n"
     ]
    }
   ],
   "source": [
    "eps = 1e-5\n",
    "eta = 1e-4\n",
    "x = np.zeros(m)\n",
    "\n",
    "while eta < m / eps:\n",
    "    x = x + newton_step(x, eta)    \n",
    "    eta = eta * (1 + 1 / (20 * np.sqrt(m)))\n",
    "    \n",
    "x = x + newton_step(x, eta)\n",
    "x = x + newton_step(x, eta)\n",
    "\n",
    "print(x)\n",
    "print(\"error = \", np.inner(x, c) + np.sum(c))"
   ]
  },
  {
   "cell_type": "code",
   "execution_count": null,
   "id": "02082ddd",
   "metadata": {},
   "outputs": [],
   "source": []
  }
 ],
 "metadata": {
  "kernelspec": {
   "display_name": "Python 3",
   "language": "python",
   "name": "python3"
  },
  "language_info": {
   "codemirror_mode": {
    "name": "ipython",
    "version": 3
   },
   "file_extension": ".py",
   "mimetype": "text/x-python",
   "name": "python",
   "nbconvert_exporter": "python",
   "pygments_lexer": "ipython3",
   "version": "3.8.8"
  }
 },
 "nbformat": 4,
 "nbformat_minor": 5
}
